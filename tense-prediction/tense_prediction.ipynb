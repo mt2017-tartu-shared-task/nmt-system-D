{
 "cells": [
  {
   "cell_type": "markdown",
   "metadata": {},
   "source": [
    "# Tense prediction"
   ]
  },
  {
   "cell_type": "code",
   "execution_count": 1,
   "metadata": {},
   "outputs": [],
   "source": [
    "import codecs\n",
    "import re\n",
    "import numpy as np\n",
    "from sklearn.model_selection import train_test_split"
   ]
  },
  {
   "cell_type": "code",
   "execution_count": 2,
   "metadata": {},
   "outputs": [],
   "source": [
    "from estnltk import Text"
   ]
  },
  {
   "cell_type": "code",
   "execution_count": 3,
   "metadata": {},
   "outputs": [
    {
     "name": "stdout",
     "output_type": "stream",
     "text": [
      "['tere', 'estnltk']\n"
     ]
    }
   ],
   "source": [
    "print( Text('Tere estnltk').lemmas )"
   ]
  },
  {
   "cell_type": "code",
   "execution_count": 4,
   "metadata": {},
   "outputs": [],
   "source": [
    "DATA_DIR = \"../data/\""
   ]
  },
  {
   "cell_type": "markdown",
   "metadata": {},
   "source": [
    "### Read corpora"
   ]
  },
  {
   "cell_type": "code",
   "execution_count": 5,
   "metadata": {},
   "outputs": [],
   "source": [
    "with codecs.open(DATA_DIR+\"cleaned-tc-tok-train.en\", \"r\", \"utf8\") as f:\n",
    "    en = [line.strip() for line in f]\n",
    "with codecs.open(DATA_DIR+\"cleaned-tc-tok-train.et\", \"r\", \"utf8\") as f:\n",
    "    et = [line.strip() for line in f]"
   ]
  },
  {
   "cell_type": "code",
   "execution_count": 7,
   "metadata": {},
   "outputs": [
    {
     "name": "stdout",
     "output_type": "stream",
     "text": [
      "16000667 16000667\n"
     ]
    }
   ],
   "source": [
    "print(len(en), len(et))"
   ]
  },
  {
   "cell_type": "markdown",
   "metadata": {},
   "source": [
    "### Grep for future tense markers"
   ]
  },
  {
   "cell_type": "code",
   "execution_count": 8,
   "metadata": {},
   "outputs": [],
   "source": [
    "pattern = re.compile(\"(.*)((will)|(&apos;ll)|(won &apos;t)|((am|is|are|&apos;re|&apos;s|&apos;m)( not)? (going to|gonna)))\")"
   ]
  },
  {
   "cell_type": "markdown",
   "metadata": {},
   "source": [
    "Find all matched strings:"
   ]
  },
  {
   "cell_type": "code",
   "execution_count": 9,
   "metadata": {},
   "outputs": [],
   "source": [
    "labels = np.asarray([1 if re.match(pattern, string) else 0 for string in en])"
   ]
  },
  {
   "cell_type": "code",
   "execution_count": 10,
   "metadata": {},
   "outputs": [
    {
     "data": {
      "text/plain": [
       "766440"
      ]
     },
     "execution_count": 10,
     "metadata": {},
     "output_type": "execute_result"
    }
   ],
   "source": [
    "np.sum(labels)"
   ]
  },
  {
   "cell_type": "code",
   "execution_count": 13,
   "metadata": {},
   "outputs": [],
   "source": [
    "with open(\"train_future_labels.en\", \"w\") as f:\n",
    "    f.writelines([str(l) for l in labels])"
   ]
  },
  {
   "cell_type": "code",
   "execution_count": 8,
   "metadata": {},
   "outputs": [],
   "source": [
    "with open(\"train_future_labels.en\", \"r\") as f:\n",
    "    labels = np.array([int(i) for i in f.read()])"
   ]
  },
  {
   "cell_type": "markdown",
   "metadata": {},
   "source": [
    "Select equal number of future tense strings and other:"
   ]
  },
  {
   "cell_type": "code",
   "execution_count": 9,
   "metadata": {},
   "outputs": [
    {
     "data": {
      "text/plain": [
       "400000"
      ]
     },
     "execution_count": 9,
     "metadata": {},
     "output_type": "execute_result"
    }
   ],
   "source": [
    "CLASS_SIZE = min(400000, np.sum(labels))\n",
    "CLASS_SIZE"
   ]
  },
  {
   "cell_type": "code",
   "execution_count": 10,
   "metadata": {
    "scrolled": false
   },
   "outputs": [
    {
     "name": "stdout",
     "output_type": "stream",
     "text": [
      "400000 400000\n"
     ]
    }
   ],
   "source": [
    "np.random.seed(42)\n",
    "ind_fut = np.random.choice(np.where(labels == 1)[0], CLASS_SIZE)\n",
    "ind_oth = np.random.choice(np.where(labels == 0)[0], CLASS_SIZE)\n",
    "print(len(ind_fut), len(ind_oth))"
   ]
  },
  {
   "cell_type": "markdown",
   "metadata": {},
   "source": [
    "Check matched sentences:"
   ]
  },
  {
   "cell_type": "code",
   "execution_count": 15,
   "metadata": {
    "scrolled": true
   },
   "outputs": [
    {
     "data": {
      "text/plain": [
       "array([ 'we &apos;ll pay the usual premium for tradesmen and fertile women , et cetera .',\n",
       "       'ECB staff will then make the photocopies .',\n",
       "       'it &apos;s gonna happen .',\n",
       "       'we &apos;re not quite in Vegas yet , but we &apos;ll get there eventually .',\n",
       "       'I &apos;m gonna pin it on him .', 'I &apos;m going to bed .',\n",
       "       'as regards third-party documents , the CIS will consult the third party concerned before proceeding to carry out the declassification .',\n",
       "       'right , then maybe we &apos;ll make some of our money back for filming this .',\n",
       "       'we &apos;re trying to work out a schedule of the outfits we &apos;re gonna play this year .',\n",
       "       'this will help the EU get back onto the path of economic growth by fostering scientific excellence and research , underpinning innovation and increasing the attractiveness of the EU as a research location .',\n",
       "       'if , in an off-premises contract , the goods , by their nature , cannot normally be returned by post and have been delivered to the consumer &apos;s home at the time of the conclusion of the contract : ‘ We will collect the goods at our own expense . ’ &#93;',\n",
       "       'I am gonna make myself some tea .',\n",
       "       'that . it &apos;ll knock out any doll in a ten-foot radius , Including a pesky sleeper like cindy ,',\n",
       "       'we regret that His Highness will be unable to see you .',\n",
       "       'we &apos;ll get you over to your venue and pick up some dim sum on the way .',\n",
       "       'the Giant hogweed eradication campaign in Belgium , for example , will be undermined if the species reinvades from France .',\n",
       "       '- I &apos;ll get out .',\n",
       "       'Marge , this time I &apos;m gonna give you the wedding deserve .',\n",
       "       'but it would be pointless to let the EU institutions waste time and energy on proposals which have no chance of being adopted – that will not deliver the results we want to see on the ground .',\n",
       "       'I am therefore convinced that we must introduce control mechanisms that will prevent the managers of investment and hedge funds from making ill-judged analyses of operational and systemic risks .'],\n",
       "      dtype='<U684')"
      ]
     },
     "execution_count": 15,
     "metadata": {},
     "output_type": "execute_result"
    }
   ],
   "source": [
    "matched = np.array([en[i] for i in ind_fut])\n",
    "matched[:20]"
   ]
  },
  {
   "cell_type": "markdown",
   "metadata": {},
   "source": [
    "### Create train and test sets"
   ]
  },
  {
   "cell_type": "code",
   "execution_count": 16,
   "metadata": {},
   "outputs": [
    {
     "name": "stdout",
     "output_type": "stream",
     "text": [
      "800000 800000\n"
     ]
    }
   ],
   "source": [
    "X = np.concatenate([np.array([et[i] for i in ind_fut]), np.array([et[i] for i in ind_oth])])"
   ]
  },
  {
   "cell_type": "code",
   "execution_count": 11,
   "metadata": {},
   "outputs": [],
   "source": [
    "y = np.concatenate([labels[ind_fut], labels[ind_oth]])"
   ]
  },
  {
   "cell_type": "code",
   "execution_count": null,
   "metadata": {},
   "outputs": [],
   "source": [
    "print(len(X), len(y))"
   ]
  },
  {
   "cell_type": "markdown",
   "metadata": {},
   "source": [
    "Lemmatize everything except verbs:"
   ]
  },
  {
   "cell_type": "code",
   "execution_count": 17,
   "metadata": {},
   "outputs": [],
   "source": [
    "def lemmatize(sent):\n",
    "    text = Text(sent)\n",
    "    return ' '.join([text.lemmas[i].split('|')[0]  # Take lemma\n",
    "                     if pt.split('|')[0] != 'V'    # if word is not a verb\n",
    "                     else text.word_texts[i]       # else take the verb itself\n",
    "                     for i, pt in enumerate(text.postags)])"
   ]
  },
  {
   "cell_type": "code",
   "execution_count": 18,
   "metadata": {},
   "outputs": [
    {
     "data": {
      "text/plain": [
       "'maksame tavapärane tasu kaupmees ja viljakas naine eest ...'"
      ]
     },
     "execution_count": 18,
     "metadata": {},
     "output_type": "execute_result"
    }
   ],
   "source": [
    "lemmatize(X[0])"
   ]
  },
  {
   "cell_type": "code",
   "execution_count": 19,
   "metadata": {},
   "outputs": [],
   "source": [
    "lemX = np.array([lemmatize(s) for s in X])"
   ]
  },
  {
   "cell_type": "code",
   "execution_count": 3,
   "metadata": {},
   "outputs": [
    {
     "data": {
      "text/plain": [
       "800000"
      ]
     },
     "execution_count": 3,
     "metadata": {},
     "output_type": "execute_result"
    }
   ],
   "source": [
    "len(lemX)"
   ]
  },
  {
   "cell_type": "code",
   "execution_count": 21,
   "metadata": {},
   "outputs": [],
   "source": [
    "with open(\"lemmatized_800k.et\", \"w\") as f:\n",
    "    f.write(\"\\n\".join(lemX))"
   ]
  },
  {
   "cell_type": "code",
   "execution_count": 2,
   "metadata": {},
   "outputs": [],
   "source": [
    "with open(\"lemmatized_800k.et\", \"r\") as f:\n",
    "    lemX = np.array([s.strip() for s in f])"
   ]
  },
  {
   "cell_type": "markdown",
   "metadata": {},
   "source": [
    "______"
   ]
  },
  {
   "cell_type": "markdown",
   "metadata": {},
   "source": [
    "## Train the network"
   ]
  },
  {
   "cell_type": "code",
   "execution_count": 25,
   "metadata": {},
   "outputs": [],
   "source": [
    "from keras.preprocessing.text import Tokenizer\n",
    "from keras.preprocessing.sequence import pad_sequences\n",
    "from keras.utils.np_utils import to_categorical\n",
    "\n",
    "from keras.layers import Embedding\n",
    "from keras.layers import Dense, Input, Flatten\n",
    "from keras.layers import Conv1D, MaxPooling1D, Embedding, Merge, Dropout, LSTM, GRU, Bidirectional\n",
    "from keras.models import Model, load_model\n",
    "from keras.callbacks import ModelCheckpoint\n",
    "\n",
    "from keras import backend as K\n",
    "from keras.engine.topology import Layer, InputSpec\n",
    "from keras import initializers\n",
    "import pickle"
   ]
  },
  {
   "cell_type": "code",
   "execution_count": 5,
   "metadata": {},
   "outputs": [],
   "source": [
    "MAX_SEQUENCE_LENGTH = 1000\n",
    "MAX_NB_WORDS = 30000\n",
    "EMBEDDING_DIM = 100"
   ]
  },
  {
   "cell_type": "markdown",
   "metadata": {},
   "source": [
    "Tokenizer:"
   ]
  },
  {
   "cell_type": "code",
   "execution_count": 13,
   "metadata": {},
   "outputs": [
    {
     "name": "stdout",
     "output_type": "stream",
     "text": [
      "Found 193610 unique tokens.\n"
     ]
    }
   ],
   "source": [
    "tokenizer = Tokenizer(num_words=MAX_NB_WORDS)\n",
    "tokenizer.fit_on_texts(lemX)\n",
    "sequences = tokenizer.texts_to_sequences(lemX)\n",
    "\n",
    "word_index = tokenizer.word_index\n",
    "print('Found %s unique tokens.' % len(word_index))"
   ]
  },
  {
   "cell_type": "code",
   "execution_count": 26,
   "metadata": {},
   "outputs": [],
   "source": [
    "# saving\n",
    "with open('tokenizer_400k.pickle', 'wb') as handle:\n",
    "    pickle.dump(tokenizer, handle, protocol=pickle.HIGHEST_PROTOCOL)"
   ]
  },
  {
   "cell_type": "code",
   "execution_count": null,
   "metadata": {},
   "outputs": [],
   "source": [
    "# loading\n",
    "with open('tokenizer_400k.pickle', 'rb') as handle:\n",
    "    tokenizer = pickle.load(handle)"
   ]
  },
  {
   "cell_type": "code",
   "execution_count": 14,
   "metadata": {},
   "outputs": [
    {
     "name": "stdout",
     "output_type": "stream",
     "text": [
      "Shape of data tensor: (800000, 1000)\n",
      "Shape of label tensor: (800000, 2)\n"
     ]
    }
   ],
   "source": [
    "data = pad_sequences(sequences, maxlen=MAX_SEQUENCE_LENGTH)\n",
    "y = to_categorical(y)\n",
    "print('Shape of data tensor:', data.shape)\n",
    "print('Shape of label tensor:', y.shape)"
   ]
  },
  {
   "cell_type": "markdown",
   "metadata": {},
   "source": [
    "Split the data:"
   ]
  },
  {
   "cell_type": "code",
   "execution_count": 15,
   "metadata": {},
   "outputs": [],
   "source": [
    "X_train, X_test, y_train, y_test = train_test_split(data, y, test_size=0.2, random_state=10)"
   ]
  },
  {
   "cell_type": "code",
   "execution_count": 16,
   "metadata": {},
   "outputs": [],
   "source": [
    "K.clear_session()"
   ]
  },
  {
   "cell_type": "code",
   "execution_count": 17,
   "metadata": {},
   "outputs": [],
   "source": [
    "embedding_layer = Embedding(len(word_index) + 1,\n",
    "                            EMBEDDING_DIM,\n",
    "                            input_length=MAX_SEQUENCE_LENGTH,\n",
    "                            trainable=True)"
   ]
  },
  {
   "cell_type": "code",
   "execution_count": 18,
   "metadata": {},
   "outputs": [
    {
     "name": "stdout",
     "output_type": "stream",
     "text": [
      "_________________________________________________________________\n",
      "Layer (type)                 Output Shape              Param #   \n",
      "=================================================================\n",
      "input_1 (InputLayer)         (None, 1000)              0         \n",
      "_________________________________________________________________\n",
      "embedding_1 (Embedding)      (None, 1000, 100)         19361100  \n",
      "_________________________________________________________________\n",
      "bidirectional_1 (Bidirection (None, 200)               160800    \n",
      "_________________________________________________________________\n",
      "dense_1 (Dense)              (None, 2)                 402       \n",
      "=================================================================\n",
      "Total params: 19,522,302\n",
      "Trainable params: 19,522,302\n",
      "Non-trainable params: 0\n",
      "_________________________________________________________________\n"
     ]
    }
   ],
   "source": [
    "sequence_input = Input(shape=(MAX_SEQUENCE_LENGTH,), dtype='int32')\n",
    "embedded_sequences = embedding_layer(sequence_input)\n",
    "l_lstm = Bidirectional(LSTM(units=EMBEDDING_DIM, recurrent_dropout=0.2, dropout=0.4))(embedded_sequences)\n",
    "preds = Dense(2, activation='softmax')(l_lstm)\n",
    "model = Model(sequence_input, preds)\n",
    "model.compile(loss='categorical_crossentropy',\n",
    "              optimizer='adam',\n",
    "              metrics=['acc'])\n",
    "\n",
    "# checkpoint\n",
    "filepath=\"lstm_fut_binary_model_400k_adam_dropout02-{epoch:02d}-{val_acc:.2f}.hdf5\"\n",
    "checkpoint = ModelCheckpoint(filepath, monitor='val_acc', verbose=1, save_best_only=True, mode='max')\n",
    "callbacks_list = [checkpoint]\n",
    "\n",
    "model.summary()"
   ]
  },
  {
   "cell_type": "code",
   "execution_count": 19,
   "metadata": {},
   "outputs": [],
   "source": [
    "model = load_model(\"lstm_fut_binary_model_400k_adam_dropout02-00-0.82.hdf5\")"
   ]
  },
  {
   "cell_type": "code",
   "execution_count": 20,
   "metadata": {
    "scrolled": false
   },
   "outputs": [
    {
     "name": "stdout",
     "output_type": "stream",
     "text": [
      "Train on 512000 samples, validate on 128000 samples\n",
      "Epoch 1/4\n",
      "511744/512000 [============================>.] - ETA: 3s - loss: 0.3895 - acc: 0.8273Epoch 00000: val_acc improved from -inf to 0.82445, saving model to lstm_fut_binary_model_400k_adam_dropout02-00-0.82.hdf5\n",
      "512000/512000 [==============================] - 7164s - loss: 0.3894 - acc: 0.8273 - val_loss: 0.3952 - val_acc: 0.8244\n",
      "Epoch 2/4\n",
      "511744/512000 [============================>.] - ETA: 3s - loss: 0.3589 - acc: 0.8429Epoch 00001: val_acc improved from 0.82445 to 0.82734, saving model to lstm_fut_binary_model_400k_adam_dropout02-01-0.83.hdf5\n",
      "512000/512000 [==============================] - 6897s - loss: 0.3589 - acc: 0.8429 - val_loss: 0.3941 - val_acc: 0.8273\n",
      "Epoch 3/4\n",
      "511744/512000 [============================>.] - ETA: 3s - loss: 0.3424 - acc: 0.8510Epoch 00002: val_acc improved from 0.82734 to 0.82824, saving model to lstm_fut_binary_model_400k_adam_dropout02-02-0.83.hdf5\n",
      "512000/512000 [==============================] - 6873s - loss: 0.3424 - acc: 0.8510 - val_loss: 0.3964 - val_acc: 0.8282\n",
      "Epoch 4/4\n",
      "511744/512000 [============================>.] - ETA: 3s - loss: 0.3247 - acc: 0.8599Epoch 00003: val_acc improved from 0.82824 to 0.82875, saving model to lstm_fut_binary_model_400k_adam_dropout02-03-0.83.hdf5\n",
      "512000/512000 [==============================] - 6889s - loss: 0.3247 - acc: 0.8599 - val_loss: 0.4000 - val_acc: 0.8287\n"
     ]
    }
   ],
   "source": [
    "history = model.fit(\n",
    "    X_train, \n",
    "    y_train, \n",
    "    validation_split=0.2, \n",
    "    callbacks=callbacks_list,\n",
    "    shuffle=True,\n",
    "    epochs=4, \n",
    "    batch_size=256)"
   ]
  },
  {
   "cell_type": "code",
   "execution_count": 33,
   "metadata": {},
   "outputs": [
    {
     "data": {
      "text/plain": [
       "<keras.engine.training.Model at 0x7f237a393358>"
      ]
     },
     "execution_count": 33,
     "metadata": {},
     "output_type": "execute_result"
    }
   ],
   "source": [
    "model"
   ]
  },
  {
   "cell_type": "code",
   "execution_count": 105,
   "metadata": {},
   "outputs": [],
   "source": [
    "model.save_weights('lstm_fut_binary_model_48k_adam_dropout02.h5')\n",
    "\n",
    "with open('lstm_fut_model_48k_adam_dropout02_def.json','w') as ff:\n",
    "    json_string = model.to_json()\n",
    "    ff.write(json_string)"
   ]
  },
  {
   "cell_type": "code",
   "execution_count": 21,
   "metadata": {},
   "outputs": [],
   "source": [
    "import matplotlib.pyplot as plt"
   ]
  },
  {
   "cell_type": "code",
   "execution_count": 22,
   "metadata": {},
   "outputs": [],
   "source": [
    "def plot_learning_curve(history):\n",
    "    plt.plot(history.history['acc'])\n",
    "    plt.plot(history.history['val_acc'])\n",
    "    plt.title('model accuracy')\n",
    "    plt.ylabel('accuracy')\n",
    "    plt.xlabel('epoch')\n",
    "    plt.legend(['train', 'test'], loc='upper left')\n",
    "    plt.savefig('./accuracy_curve.png')\n",
    "    plt.clf()\n",
    "    # summarize history for loss\n",
    "    plt.plot(history.history['loss'])\n",
    "    plt.plot(history.history['val_loss'])\n",
    "    plt.title('model loss')\n",
    "    plt.ylabel('loss')\n",
    "    plt.xlabel('epoch')\n",
    "    plt.legend(['train', 'test'], loc='upper left')\n",
    "    plt.savefig('./loss_curve.png')\n",
    "\n",
    "plot_learning_curve(history)"
   ]
  },
  {
   "cell_type": "code",
   "execution_count": 114,
   "metadata": {},
   "outputs": [
    {
     "data": {
      "image/png": "[encoded data removed]",
      "text/plain": [
       "<matplotlib.figure.Figure at 0x7facf003f518>"
      ]
     },
     "metadata": {},
     "output_type": "display_data"
    }
   ],
   "source": [
    "plt.show()"
   ]
  },
  {
   "cell_type": "markdown",
   "metadata": {},
   "source": [
    "### Accuracy"
   ]
  },
  {
   "cell_type": "code",
   "execution_count": 23,
   "metadata": {},
   "outputs": [
    {
     "name": "stdout",
     "output_type": "stream",
     "text": [
      "Predicting on test data\n",
      "0.82735\n"
     ]
    }
   ],
   "source": [
    "from sklearn.metrics import accuracy_score\n",
    "\n",
    "print('Predicting on test data')\n",
    "y_pred = np.rint(model.predict(X_test))\n",
    "\n",
    "print(accuracy_score(y_test, y_pred))"
   ]
  },
  {
   "cell_type": "markdown",
   "metadata": {},
   "source": [
    "### Confusion matrix"
   ]
  },
  {
   "cell_type": "code",
   "execution_count": 24,
   "metadata": {},
   "outputs": [
    {
     "name": "stdout",
     "output_type": "stream",
     "text": [
      "[[67290 12513]\n",
      " [15111 65086]]\n"
     ]
    }
   ],
   "source": [
    "from sklearn.metrics import confusion_matrix\n",
    "\n",
    "print(confusion_matrix(y_test[:,0], y_pred[:,0]))"
   ]
  },
  {
   "cell_type": "markdown",
   "metadata": {},
   "source": [
    "### Misclassified"
   ]
  },
  {
   "cell_type": "code",
   "execution_count": 28,
   "metadata": {},
   "outputs": [],
   "source": [
    "false_positive = np.intersect1d(np.where(y_pred == 1), np.where(y_test == 0))\n",
    "false_negative = np.intersect1d(np.where(y_pred == 0), np.where(y_test == 1))"
   ]
  },
  {
   "cell_type": "code",
   "execution_count": 29,
   "metadata": {},
   "outputs": [
    {
     "data": {
      "text/plain": [
       "array(['Krahmer report A6-0046 / 2009 — Amendment 5 / 2', 'go !',\n",
       "       '~ Gosh ! they smell so good . ~ Yeah !',\n",
       "       'the Court considers , however , that grants should be awarded on the basis of Commission decisions since , according to the Financial Regulation , the use of the Commission decision procedure is a pre-condition for agreeing on negotiated flat rates for indirect costs , established according to the usual cost accounting practices of the participant , over and above the 7 % established by the Financial Regulation ( see paragraphs 69 and 70 ) .',\n",
       "       '15 .',\n",
       "       '( 11a ) In accordance with the objectives of the Community Action Plan on the Protection and Welfare of Animals ( 2006 – 2010 ) the Commission should endeavour to promote the welfare of animals used for scientific purposes internationally , and in particular to seek promotion of the replacement , reduction and refinement of animal procedures through the World Organisation for Animal Health ( OIE ) , and by seeking to add animal welfare standards to the criteria assessed in order to establish compliance with Good Laboratory Practice ( GLP ) .',\n",
       "       'what are you talking about ?',\n",
       "       'look , just relax . we &apos;ll get her back .',\n",
       "       '- There had to be something else .',\n",
       "       'I told you this Greece thing was gonna be great .',\n",
       "       '- Hey , come on , man , where you going ? - Chill , partner .',\n",
       "       'name of the applicant and the stamp of the applicant .',\n",
       "       'it &apos;s a 25-year-old bottle of Takagi .',\n",
       "       'must have been internal or something .',\n",
       "       'you have done nothing but be an invaluable advisor to me and an even better friend .',\n",
       "       'Hi .', 'she &apos;s gone .',\n",
       "       'according to the tax laws of a Member State is considered to be resident in that Member State for tax purposes and , under the terms of a double taxation agreement concluded with a third country , is not considered to be resident for tax purposes outside the Community ; and',\n",
       "       '- I don &apos;t want to go fishing .',\n",
       "       'you know the rules , Lai Lai .'],\n",
       "      dtype='<U795')"
      ]
     },
     "execution_count": 29,
     "metadata": {},
     "output_type": "execute_result"
    }
   ],
   "source": [
    "fp = en[false_positive]\n",
    "fp[:20]"
   ]
  },
  {
   "cell_type": "markdown",
   "metadata": {},
   "source": [
    "------"
   ]
  },
  {
   "cell_type": "markdown",
   "metadata": {},
   "source": [
    "## Estonian sentences"
   ]
  },
  {
   "cell_type": "markdown",
   "metadata": {},
   "source": [
    "Split by clauses"
   ]
  },
  {
   "cell_type": "code",
   "execution_count": 14,
   "metadata": {},
   "outputs": [],
   "source": [
    "class PresText(Text):\n",
    "\n",
    "    def __init__(self, sentence):\n",
    "        Text.__init__(self, sentence)\n",
    "        self.present_indices = self.present_ind()\n",
    "        self.clauses_with_present = self.clauses_present()\n",
    "\n",
    "    def present_ind(self):\n",
    "        present_tags = ['b', 'd', 'ge', 'gem', 'gu', 'ks', 'ksid', 'ksime', 'ksin', 'ksite', 'me', 'n', 'neg ge',\n",
    "                        'neg gem', 'neg gu', 'neg ks', 'meg me', 'neg o', 'neg vat', 'o', 'ta', 'tagu', 'taks',\n",
    "                        'takse', 'tav', 'tavat', 'te', 'v', 'vad', 'vat']\n",
    "        return [i for i, t in enumerate(self.get.forms.as_list[0]) if t in present_tags]\n",
    "\n",
    "    def clauses_present(self):\n",
    "        clauses_present = [self.clause_texts[j] for j in [self.clause_indices[i] for i in self.present_indices]]\n",
    "        return clauses_present"
   ]
  }
 ],
 "metadata": {
  "kernelspec": {
   "display_name": "Python 3",
   "language": "python",
   "name": "python3"
  },
  "language_info": {
   "codemirror_mode": {
    "name": "ipython",
    "version": 3
   },
   "file_extension": ".py",
   "mimetype": "text/x-python",
   "name": "python",
   "nbconvert_exporter": "python",
   "pygments_lexer": "ipython3",
   "version": "3.5.2"
  }
 },
 "nbformat": 4,
 "nbformat_minor": 2
}
